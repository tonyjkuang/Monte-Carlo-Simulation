{
 "cells": [
  {
   "cell_type": "markdown",
   "metadata": {},
   "source": [
    "# Homework 1\n",
    "\n",
    "## *Learning Python Basic and NumPy*\n",
    "\n",
    "---"
   ]
  },
  {
   "cell_type": "markdown",
   "metadata": {},
   "source": [
    "### Problem 1: Welcome (20 points)\n",
    "\n",
    "(a) Write a funbction below that takes as input a string containing a name in the \"Last_Name, First_Name\" format and prints a welcome message with the first name first and the last name last and tells the person the length of their first name. The function should be able to handle a wrong input and print a meassge:  *Input format error: please use \"Last_Name, First_Name\"*\n"
   ]
  },
  {
   "cell_type": "code",
   "execution_count": 84,
   "metadata": {},
   "outputs": [],
   "source": [
    "def welcome(name_str):\n",
    "    your_name = name_str.split(\",\")\n",
    "    if len(your_name)<2:\n",
    "        msg = \"Input format error: please use \\\"Last_Name, First_Name\\\"\"\n",
    "        print(msg)\n",
    "    else:\n",
    "        last_name = your_name[0].strip().title()\n",
    "        first_name = your_name[1].strip().title()\n",
    "        length = len(first_name)\n",
    "        full_name = first_name + \" \" + last_name\n",
    "        print(full_name + \" your first name is \" + str(length) + \" letters in length.\")"
   ]
  },
  {
   "cell_type": "code",
   "execution_count": 85,
   "metadata": {},
   "outputs": [
    {
     "name": "stdout",
     "output_type": "stream",
     "text": [
      "Alexander Hamilton your first name is 9 letters in length.\n"
     ]
    }
   ],
   "source": [
    "welcome(\"Hamilton, Alexander\")"
   ]
  },
  {
   "cell_type": "code",
   "execution_count": 86,
   "metadata": {},
   "outputs": [
    {
     "name": "stdout",
     "output_type": "stream",
     "text": [
      "John Kennedy your first name is 4 letters in length.\n"
     ]
    }
   ],
   "source": [
    "welcome(\"Kennedy, John\")"
   ]
  },
  {
   "cell_type": "code",
   "execution_count": 87,
   "metadata": {},
   "outputs": [
    {
     "name": "stdout",
     "output_type": "stream",
     "text": [
      "Barack Obama your first name is 6 letters in length.\n"
     ]
    }
   ],
   "source": [
    "welcome(\"   Obama,   Barack   \")"
   ]
  },
  {
   "cell_type": "markdown",
   "metadata": {},
   "source": [
    "(b) Test your function below by calling function with following examples:\n",
    "\n",
    "- \"Hamilton, Alexander\" should return Alexander Hamilton your first name is 9 letters in length\n",
    "- \"Kennedy, John\" should return John Kennedy your first name is 4 letters in length\n",
    "- \" &nbsp;  Obama, &nbsp;   Barack &nbsp;  \" should return Barack Obama your first name is 6 letters in length\n",
    "\n",
    "Note that the extra spaces in the third name must be removed\n"
   ]
  },
  {
   "cell_type": "markdown",
   "metadata": {},
   "source": [
    "### Problem 2: Moving Average (40 points)\n",
    "\n",
    "(a) Write a function below that can compute the moving average of time series using a sliding window over an array. This function should take an array of date strings (say arr_date), an array of numbers (say arr_record), and a sliding window (default value 50). It should:\n",
    "\n",
    "- Return a list of dictionaries for all windows.\n",
    "- Each dictionary should include the date, average value, min, max, standard deviation at each window.\n",
    "- Able to handle missing data in time series by replacing missing data with the most recent available data.\n"
   ]
  },
  {
   "cell_type": "code",
   "execution_count": 88,
   "metadata": {},
   "outputs": [],
   "source": [
    "import numpy as np\n",
    "\n",
    "def moving_avg(arr_date,arr_record,window=50):\n",
    "    len(arr_date)\n",
    "    my_dict = []\n",
    "    if (np.isnan(arr_record[0])):\n",
    "        finite_pos = np.argwhere(np.isfinite(arr_record))\n",
    "        arr_record[0] = arr_record[finite_pos[0]]\n",
    "    \n",
    "    nan_pos = np.argwhere(np.isnan(arr_record))\n",
    "    for index in nan_pos:\n",
    "        arr_record[index] = arr_record[index-1]\n",
    "    \n",
    "    list_dict = []    \n",
    "    for i in range(window, N):\n",
    "        my_data = arr_record[i-window:i]\n",
    "        my_mean = np.mean(my_data)\n",
    "        my_std = np.std(my_data)\n",
    "        my_max = np.max(my_data)\n",
    "        my_min = np.min(my_data)\n",
    "        my_dict = {\"date\":arr_date[i], \"average\":my_mean, \"standard deviation\":str(my_std)+\"%\", \"max\": my_max, \"min\":my_min}\n",
    "        list_dict.append(my_dict)\n",
    "    return list_dict"
   ]
  },
  {
   "cell_type": "markdown",
   "metadata": {},
   "source": [
    "(b) Download SPY daily data (Dec. 31, 2017 to Dec. 31, 2018) from Yahoo! as your test data in a .csv file. Read [reading .csv file example](https://janakiev.com/blog/csv-in-python/) and write a test programming for calling your function. "
   ]
  },
  {
   "cell_type": "code",
   "execution_count": 89,
   "metadata": {},
   "outputs": [
    {
     "name": "stdout",
     "output_type": "stream",
     "text": [
      "[{'date': '2018-03-15', 'average': 265.52265654, 'standard deviation': '5.942065808896458%', 'max': 277.368439, 'min': 249.348999}, {'date': '2018-03-16', 'average': 265.64325042, 'standard deviation': '5.892396287272555%', 'max': 277.368439, 'min': 249.348999}, {'date': '2018-03-19', 'average': 265.7367111, 'standard deviation': '5.867326812543242%', 'max': 277.368439, 'min': 249.348999}, {'date': '2018-03-20', 'average': 265.73600126, 'standard deviation': '5.867674563835855%', 'max': 277.368439, 'min': 249.348999}, {'date': '2018-03-21', 'average': 265.70919584, 'standard deviation': '5.8757152155464984%', 'max': 277.368439, 'min': 249.348999}, {'date': '2018-03-22', 'average': 265.66260525999996, 'standard deviation': '5.8894587625541766%', 'max': 277.368439, 'min': 249.348999}, {'date': '2018-03-23', 'average': 265.47263516, 'standard deviation': '6.036058304803997%', 'max': 277.368439, 'min': 249.348999}, {'date': '2018-03-26', 'average': 265.18157102000004, 'standard deviation': '6.3781236018610885%', 'max': 277.368439, 'min': 249.348999}, {'date': '2018-03-27', 'average': 264.98900266, 'standard deviation': '6.457781030145744%', 'max': 277.368439, 'min': 249.348999}, {'date': '2018-03-28', 'average': 264.6739401, 'standard deviation': '6.636847904525183%', 'max': 277.368439, 'min': 249.348999}, {'date': '2018-03-29', 'average': 264.36230162, 'standard deviation': '6.833119582105914%', 'max': 277.368439, 'min': 249.348999}, {'date': '2018-04-02', 'average': 264.06408537999994, 'standard deviation': '6.8786241810948585%', 'max': 277.368439, 'min': 249.348999}, {'date': '2018-04-03', 'average': 263.6645767, 'standard deviation': '7.0893868686698704%', 'max': 277.368439, 'min': 249.348999}, {'date': '2018-04-04', 'average': 263.30462004000003, 'standard deviation': '7.144352748854861%', 'max': 277.368439, 'min': 249.348999}, {'date': '2018-04-05', 'average': 262.95475125999997, 'standard deviation': '7.059268627832904%', 'max': 277.368439, 'min': 249.348999}, {'date': '2018-04-06', 'average': 262.6336923, 'standard deviation': '6.904600253293201%', 'max': 277.368439, 'min': 249.348999}, {'date': '2018-04-09', 'average': 262.19970822000005, 'standard deviation': '6.853406893234862%', 'max': 277.368439, 'min': 249.348999}, {'date': '2018-04-10', 'average': 261.78827908, 'standard deviation': '6.737516733901637%', 'max': 277.368439, 'min': 249.348999}, {'date': '2018-04-11', 'average': 261.39401272000003, 'standard deviation': '6.381654803309782%', 'max': 275.52948, 'min': 249.348999}, {'date': '2018-04-12', 'average': 261.00951138, 'standard deviation': '6.090938232313845%', 'max': 272.838898, 'min': 249.348999}, {'date': '2018-04-13', 'average': 260.72370448000004, 'standard deviation': '5.866662940658893%', 'max': 272.838898, 'min': 249.348999}, {'date': '2018-04-16', 'average': 260.42002893999995, 'standard deviation': '5.619455581872656%', 'max': 272.529144, 'min': 249.348999}, {'date': '2018-04-17', 'average': 260.16491482000004, 'standard deviation': '5.346863198975996%', 'max': 269.906281, 'min': 249.348999}, {'date': '2018-04-18', 'average': 260.08404262, 'standard deviation': '5.279128097652886%', 'max': 269.906281, 'min': 249.348999}, {'date': '2018-04-19', 'average': 260.23005245999997, 'standard deviation': '5.249720064799458%', 'max': 269.906281, 'min': 249.348999}, {'date': '2018-04-20', 'average': 260.24625364, 'standard deviation': '5.25171406960429%', 'max': 269.906281, 'min': 249.348999}, {'date': '2018-04-23', 'average': 260.24640378, 'standard deviation': '5.251680441674244%', 'max': 269.906281, 'min': 249.348999}, {'date': '2018-04-24', 'average': 260.44012325999995, 'standard deviation': '5.019651670827728%', 'max': 269.906281, 'min': 250.192169}, {'date': '2018-04-25', 'average': 260.48916134, 'standard deviation': '4.959265224118004%', 'max': 269.906281, 'min': 250.192169}, {'date': '2018-04-26', 'average': 260.47649838, 'standard deviation': '4.969438278010834%', 'max': 269.906281, 'min': 250.192169}, {'date': '2018-04-27', 'average': 260.50314572, 'standard deviation': '4.9566936440092855%', 'max': 269.906281, 'min': 250.192169}, {'date': '2018-04-30', 'average': 260.46515866000004, 'standard deviation': '4.960594799611296%', 'max': 269.906281, 'min': 250.192169}, {'date': '2018-05-01', 'average': 260.32074338, 'standard deviation': '4.953292845484932%', 'max': 269.906281, 'min': 250.192169}, {'date': '2018-05-02', 'average': 260.18391416000003, 'standard deviation': '4.935073682586345%', 'max': 269.906281, 'min': 250.192169}, {'date': '2018-05-03', 'average': 260.04559231999997, 'standard deviation': '4.960136543027124%', 'max': 269.906281, 'min': 250.192169}, {'date': '2018-05-04', 'average': 259.92212828, 'standard deviation': '5.002289500483342%', 'max': 269.906281, 'min': 250.192169}, {'date': '2018-05-07', 'average': 259.85796752, 'standard deviation': '4.999537633720636%', 'max': 269.906281, 'min': 250.192169}, {'date': '2018-05-08', 'average': 259.72786988, 'standard deviation': '4.925223171543442%', 'max': 269.906281, 'min': 250.192169}, {'date': '2018-05-09', 'average': 259.53602236, 'standard deviation': '4.7451136335022035%', 'max': 269.906281, 'min': 250.192169}, {'date': '2018-05-10', 'average': 259.46148562, 'standard deviation': '4.677928742359124%', 'max': 269.906281, 'min': 250.192169}, {'date': '2018-05-11', 'average': 259.48973576000003, 'standard deviation': '4.702917968833477%', 'max': 269.906281, 'min': 250.192169}, {'date': '2018-05-14', 'average': 259.61057804, 'standard deviation': '4.768400419762147%', 'max': 269.906281, 'min': 250.192169}, {'date': '2018-05-15', 'average': 259.70723452000004, 'standard deviation': '4.832598705645585%', 'max': 269.906281, 'min': 250.192169}, {'date': '2018-05-16', 'average': 259.70715212000005, 'standard deviation': '4.83253507553815%', 'max': 269.906281, 'min': 250.192169}, {'date': '2018-05-17', 'average': 259.71586854000003, 'standard deviation': '4.840852379043585%', 'max': 269.906281, 'min': 250.192169}, {'date': '2018-05-18', 'average': 259.72205142, 'standard deviation': '4.846529740572671%', 'max': 269.906281, 'min': 250.192169}, {'date': '2018-05-21', 'average': 259.68946842, 'standard deviation': '4.8143595457969415%', 'max': 269.906281, 'min': 250.192169}, {'date': '2018-05-22', 'average': 259.60419742, 'standard deviation': '4.668184680772257%', 'max': 269.567535, 'min': 250.192169}, {'date': '2018-05-23', 'average': 259.51093022000003, 'standard deviation': '4.512170517113708%', 'max': 267.825409, 'min': 250.192169}, {'date': '2018-05-24', 'average': 259.46708196, 'standard deviation': '4.441254636500445%', 'max': 266.450989, 'min': 250.192169}, {'date': '2018-05-25', 'average': 259.43983952, 'standard deviation': '4.40233924017126%', 'max': 266.44931, 'min': 250.192169}, {'date': '2018-05-29', 'average': 259.40577152, 'standard deviation': '4.356550560471254%', 'max': 266.44931, 'min': 250.192169}, {'date': '2018-05-30', 'average': 259.3050983, 'standard deviation': '4.249465984335517%', 'max': 265.642731, 'min': 250.192169}, {'date': '2018-05-31', 'average': 259.34629947999997, 'standard deviation': '4.293339479591921%', 'max': 265.642731, 'min': 250.192169}, {'date': '2018-06-01', 'average': 259.34610418, 'standard deviation': '4.293160245127257%', 'max': 265.642731, 'min': 250.192169}, {'date': '2018-06-04', 'average': 259.40771246, 'standard deviation': '4.363604353209825%', 'max': 265.866272, 'min': 250.192169}, {'date': '2018-06-05', 'average': 259.62596442, 'standard deviation': '4.4701578363967895%', 'max': 267.129517, 'min': 250.192169}, {'date': '2018-06-06', 'average': 259.95732519999996, 'standard deviation': '4.41407396559487%', 'max': 267.323822, 'min': 250.192169}, {'date': '2018-06-07', 'average': 260.19617714000003, 'standard deviation': '4.600126757040738%', 'max': 269.558838, 'min': 250.192169}, {'date': '2018-06-08', 'average': 260.52209602000005, 'standard deviation': '4.672013031173291%', 'max': 269.558838, 'min': 250.192169}, {'date': '2018-06-11', 'average': 260.87891762, 'standard deviation': '4.725584973040271%', 'max': 270.326508, 'min': 250.192169}, {'date': '2018-06-12', 'average': 261.17840584000004, 'standard deviation': '4.861177971517911%', 'max': 270.686066, 'min': 250.192169}, {'date': '2018-06-13', 'average': 261.59527962, 'standard deviation': '4.794445409634135%', 'max': 271.035858, 'min': 252.378555}, {'date': '2018-06-14', 'average': 261.93072090000004, 'standard deviation': '4.795981427276887%', 'max': 271.035858, 'min': 252.378555}, {'date': '2018-06-15', 'average': 262.22554512, 'standard deviation': '4.881437359065923%', 'max': 271.035858, 'min': 252.378555}, {'date': '2018-06-18', 'average': 262.47303414000004, 'standard deviation': '4.980274834050929%', 'max': 271.035858, 'min': 252.378555}, {'date': '2018-06-19', 'average': 262.82444985999996, 'standard deviation': '4.874379705927479%', 'max': 271.035858, 'min': 253.622391}, {'date': '2018-06-20', 'average': 263.13029488, 'standard deviation': '4.765950839243218%', 'max': 271.035858, 'min': 255.196579}, {'date': '2018-06-21', 'average': 263.36466072, 'standard deviation': '4.779052202268248%', 'max': 271.035858, 'min': 255.196579}, {'date': '2018-06-22', 'average': 263.59226752, 'standard deviation': '4.707850580190259%', 'max': 271.035858, 'min': 255.196579}, {'date': '2018-06-25', 'average': 263.78746284, 'standard deviation': '4.691364452860614%', 'max': 271.035858, 'min': 255.196579}, {'date': '2018-06-26', 'average': 263.92480476000003, 'standard deviation': '4.609633669960698%', 'max': 271.035858, 'min': 255.196579}, {'date': '2018-06-27', 'average': 264.0314942, 'standard deviation': '4.5739105561090145%', 'max': 271.035858, 'min': 255.196579}, {'date': '2018-06-28', 'average': 264.038675, 'standard deviation': '4.571864531154145%', 'max': 271.035858, 'min': 255.196579}, {'date': '2018-06-29', 'average': 264.07203192000003, 'standard deviation': '4.568401559893252%', 'max': 271.035858, 'min': 255.196579}, {'date': '2018-07-02', 'average': 264.14215398, 'standard deviation': '4.55203110448993%', 'max': 271.035858, 'min': 255.196579}, {'date': '2018-07-03', 'average': 264.26791142, 'standard deviation': '4.496794193483428%', 'max': 271.035858, 'min': 255.196579}, {'date': '2018-07-05', 'average': 264.3757044, 'standard deviation': '4.4342256331829155%', 'max': 271.035858, 'min': 255.196579}, {'date': '2018-07-06', 'average': 264.59640998, 'standard deviation': '4.260501683835308%', 'max': 271.035858, 'min': 255.196579}, {'date': '2018-07-09', 'average': 264.84958073999996, 'standard deviation': '4.126739705699624%', 'max': 271.035858, 'min': 255.196579}, {'date': '2018-07-10', 'average': 265.09908026000005, 'standard deviation': '4.129488204298607%', 'max': 271.257294, 'min': 255.196579}, {'date': '2018-07-11', 'average': 265.36324224, 'standard deviation': '4.154878153017401%', 'max': 272.233337, 'min': 255.196579}, {'date': '2018-07-12', 'average': 265.62742132, 'standard deviation': '4.03503494284991%', 'max': 272.233337, 'min': 255.196579}, {'date': '2018-07-13', 'average': 265.93146552, 'standard deviation': '3.9828247773743506%', 'max': 272.692139, 'min': 255.196579}, {'date': '2018-07-16', 'average': 266.27439856000007, 'standard deviation': '3.8274461944566953%', 'max': 272.906891, 'min': 255.196579}, {'date': '2018-07-17', 'average': 266.62372442000003, 'standard deviation': '3.5901540285605638%', 'max': 272.906891, 'min': 258.500519}, {'date': '2018-07-18', 'average': 266.92903142, 'standard deviation': '3.5350344896001746%', 'max': 273.765869, 'min': 259.375092}, {'date': '2018-07-19', 'average': 267.22836490000003, 'standard deviation': '3.5163334560680983%', 'max': 274.341766, 'min': 259.375092}, {'date': '2018-07-20', 'average': 267.50700502, 'standard deviation': '3.4340213562197635%', 'max': 274.341766, 'min': 261.415649}, {'date': '2018-07-23', 'average': 267.72925722, 'standard deviation': '3.422372254521547%', 'max': 274.341766, 'min': 261.415649}, {'date': '2018-07-24', 'average': 267.91268556, 'standard deviation': '3.480598133825744%', 'max': 274.341766, 'min': 261.415649}, {'date': '2018-07-25', 'average': 268.10750978, 'standard deviation': '3.590688115379855%', 'max': 274.878601, 'min': 261.415649}, {'date': '2018-07-26', 'average': 268.34665896, 'standard deviation': '3.786199401146195%', 'max': 277.221222, 'min': 261.415649}, {'date': '2018-07-27', 'average': 268.60926637999995, 'standard deviation': '3.8904745959060314%', 'max': 277.221222, 'min': 261.415649}, {'date': '2018-07-30', 'average': 268.81223696, 'standard deviation': '3.9375693055800043%', 'max': 277.221222, 'min': 261.415649}, {'date': '2018-07-31', 'average': 268.99097962, 'standard deviation': '3.932488973053533%', 'max': 277.221222, 'min': 261.415649}, {'date': '2018-08-01', 'average': 269.2098761, 'standard deviation': '3.934292902578181%', 'max': 277.221222, 'min': 261.415649}, {'date': '2018-08-02', 'average': 269.37995178, 'standard deviation': '3.9601328886339635%', 'max': 277.221222, 'min': 261.415649}, {'date': '2018-08-03', 'average': 269.59466796, 'standard deviation': '4.0024564919443675%', 'max': 277.221222, 'min': 261.415649}, {'date': '2018-08-06', 'average': 269.81842894, 'standard deviation': '4.086575901882753%', 'max': 277.221222, 'min': 261.415649}, {'date': '2018-08-07', 'average': 270.07337524, 'standard deviation': '4.180121666375514%', 'max': 277.836182, 'min': 261.415649}, {'date': '2018-08-08', 'average': 270.3593042, 'standard deviation': '4.274084899294105%', 'max': 278.753693, 'min': 261.415649}, {'date': '2018-08-09', 'average': 270.70372254, 'standard deviation': '4.233161894474458%', 'max': 278.753693, 'min': 262.911652}, {'date': '2018-08-10', 'average': 270.97075744, 'standard deviation': '4.2797629237067305%', 'max': 278.753693, 'min': 262.911652}, {'date': '2018-08-13', 'average': 271.2329608, 'standard deviation': '4.201523656973282%', 'max': 278.753693, 'min': 262.911652}, {'date': '2018-08-14', 'average': 271.42277342, 'standard deviation': '4.169038644730074%', 'max': 278.753693, 'min': 262.911652}, {'date': '2018-08-15', 'average': 271.6224603, 'standard deviation': '4.197634680902546%', 'max': 278.753693, 'min': 262.911652}, {'date': '2018-08-16', 'average': 271.77687498, 'standard deviation': '4.17862919817384%', 'max': 278.753693, 'min': 262.911652}, {'date': '2018-08-17', 'average': 271.93109984, 'standard deviation': '4.235831577749434%', 'max': 278.753693, 'min': 262.911652}, {'date': '2018-08-20', 'average': 272.10542968000004, 'standard deviation': '4.312092150858039%', 'max': 278.753693, 'min': 262.911652}, {'date': '2018-08-21', 'average': 272.27573118, 'standard deviation': '4.4056055316753815%', 'max': 278.841583, 'min': 262.911652}, {'date': '2018-08-22', 'average': 272.45192074, 'standard deviation': '4.513345829326882%', 'max': 279.495544, 'min': 262.911652}, {'date': '2018-08-23', 'average': 272.61779537999996, 'standard deviation': '4.609633195193939%', 'max': 279.495544, 'min': 262.911652}, {'date': '2018-08-24', 'average': 272.79355038, 'standard deviation': '4.679983206843277%', 'max': 279.495544, 'min': 262.911652}, {'date': '2018-08-27', 'average': 272.9892767, 'standard deviation': '4.79781802174446%', 'max': 280.637573, 'min': 262.911652}, {'date': '2018-08-28', 'average': 273.23622922000004, 'standard deviation': '4.978021895023947%', 'max': 282.853333, 'min': 262.911652}, {'date': '2018-08-29', 'average': 273.49704160000005, 'standard deviation': '5.138026030387102%', 'max': 282.98996, 'min': 262.911652}, {'date': '2018-08-30', 'average': 273.80900206, 'standard deviation': '5.32061120701964%', 'max': 284.512665, 'min': 262.911652}, {'date': '2018-08-31', 'average': 274.0887512, 'standard deviation': '5.446275667978294%', 'max': 284.512665, 'min': 262.911652}, {'date': '2018-09-04', 'average': 274.40246886, 'standard deviation': '5.519632572129587%', 'max': 284.512665, 'min': 262.911652}, {'date': '2018-09-05', 'average': 274.69666442, 'standard deviation': '5.571523543737822%', 'max': 284.512665, 'min': 262.911652}, {'date': '2018-09-06', 'average': 275.048645, 'standard deviation': '5.472667073415149%', 'max': 284.512665, 'min': 262.911652}, {'date': '2018-09-07', 'average': 275.37192808000003, 'standard deviation': '5.351992860684211%', 'max': 284.512665, 'min': 262.911652}, {'date': '2018-09-10', 'average': 275.7282037, 'standard deviation': '5.097541168267429%', 'max': 284.512665, 'min': 264.414825}, {'date': '2018-09-11', 'average': 276.06417660000005, 'standard deviation': '4.890190215941799%', 'max': 284.512665, 'min': 264.424622}, {'date': '2018-09-12', 'average': 276.41108030000004, 'standard deviation': '4.689611712418594%', 'max': 284.512665, 'min': 264.424622}, {'date': '2018-09-13', 'average': 276.74802854, 'standard deviation': '4.484360287157937%', 'max': 284.512665, 'min': 264.424622}, {'date': '2018-09-14', 'average': 277.13710018, 'standard deviation': '4.235277028813151%', 'max': 284.512665, 'min': 266.581757}, {'date': '2018-09-17', 'average': 277.48400508000003, 'standard deviation': '4.063370330489417%', 'max': 284.512665, 'min': 268.836578}, {'date': '2018-09-18', 'average': 277.75574948, 'standard deviation': '3.9280535387824838%', 'max': 284.512665, 'min': 270.242157}, {'date': '2018-09-19', 'average': 278.00973018, 'standard deviation': '3.9101718201039626%', 'max': 284.512665, 'min': 270.242157}, {'date': '2018-09-20', 'average': 278.25024166000003, 'standard deviation': '3.917308865247346%', 'max': 284.512665, 'min': 270.242157}, {'date': '2018-09-21', 'average': 278.57664852, 'standard deviation': '3.9163824740790885%', 'max': 286.5625, 'min': 272.662872}, {'date': '2018-09-24', 'average': 278.84881892000004, 'standard deviation': '3.970470081579921%', 'max': 286.5625, 'min': 272.662872}, {'date': '2018-09-25', 'average': 279.09767268, 'standard deviation': '3.9801723529364965%', 'max': 286.5625, 'min': 272.662872}, {'date': '2018-09-26', 'average': 279.3461114, 'standard deviation': '3.958387645551919%', 'max': 286.5625, 'min': 272.994751}, {'date': '2018-09-27', 'average': 279.55543026000004, 'standard deviation': '3.9344170685767437%', 'max': 286.5625, 'min': 272.994751}, {'date': '2018-09-28', 'average': 279.76911496, 'standard deviation': '3.9355906167436663%', 'max': 286.5625, 'min': 272.994751}, {'date': '2018-10-01', 'average': 280.00408200000004, 'standard deviation': '3.8932528163465716%', 'max': 286.5625, 'min': 272.994751}, {'date': '2018-10-02', 'average': 280.2651025, 'standard deviation': '3.851845362551794%', 'max': 286.5625, 'min': 273.258331}, {'date': '2018-10-03', 'average': 280.5126379000001, 'standard deviation': '3.8067119861792538%', 'max': 286.5625, 'min': 273.258331}, {'date': '2018-10-04', 'average': 280.73578488, 'standard deviation': '3.796913702773159%', 'max': 286.5625, 'min': 273.258331}, {'date': '2018-10-05', 'average': 280.86736814000005, 'standard deviation': '3.786823463690242%', 'max': 286.5625, 'min': 273.258331}, {'date': '2018-10-08', 'average': 280.98026120000003, 'standard deviation': '3.740805360512903%', 'max': 286.5625, 'min': 273.258331}, {'date': '2018-10-09', 'average': 281.13063596, 'standard deviation': '3.634666799439914%', 'max': 286.5625, 'min': 273.258331}, {'date': '2018-10-10', 'average': 281.30147153999997, 'standard deviation': '3.4570389279984566%', 'max': 286.5625, 'min': 274.146515}, {'date': '2018-10-11', 'average': 281.26691526, 'standard deviation': '3.5316318473157633%', 'max': 286.5625, 'min': 272.877441}, {'date': '2018-10-12', 'average': 281.12132322, 'standard deviation': '3.9477114594878295%', 'max': 286.5625, 'min': 266.866913}, {'date': '2018-10-15', 'average': 281.01998838, 'standard deviation': '4.147106916050494%', 'max': 286.5625, 'min': 266.866913}, {'date': '2018-10-16', 'average': 280.8646362, 'standard deviation': '4.436857725961005%', 'max': 286.5625, 'min': 266.866913}, {'date': '2018-10-17', 'average': 280.80664242, 'standard deviation': '4.494637932143739%', 'max': 286.5625, 'min': 266.866913}, {'date': '2018-10-18', 'average': 280.73127986, 'standard deviation': '4.559550136338749%', 'max': 286.5625, 'min': 266.866913}, {'date': '2018-10-19', 'average': 280.57883724, 'standard deviation': '4.750457204412528%', 'max': 286.5625, 'min': 266.866913}, {'date': '2018-10-22', 'average': 280.43106625999997, 'standard deviation': '4.9318698309018805%', 'max': 286.5625, 'min': 266.866913}, {'date': '2018-10-23', 'average': 280.29626584, 'standard deviation': '5.128623387675177%', 'max': 286.5625, 'min': 266.866913}, {'date': '2018-10-24', 'average': 280.15470396, 'standard deviation': '5.355667779041327%', 'max': 286.5625, 'min': 266.866913}, {'date': '2018-10-25', 'average': 279.81543394, 'standard deviation': '6.03213181555599%', 'max': 286.5625, 'min': 260.15036}, {'date': '2018-10-26', 'average': 279.61089413999997, 'standard deviation': '6.355176869214954%', 'max': 286.5625, 'min': 260.15036}, {'date': '2018-10-29', 'average': 279.26869504, 'standard deviation': '6.908562246702047%', 'max': 286.5625, 'min': 260.15036}, {'date': '2018-10-30', 'average': 278.87814694, 'standard deviation': '7.483368062471308%', 'max': 286.5625, 'min': 258.71875}, {'date': '2018-10-31', 'average': 278.55236692, 'standard deviation': '7.824648210031768%', 'max': 286.5625, 'min': 258.71875}, {'date': '2018-11-01', 'average': 278.2695935, 'standard deviation': '8.038021419445538%', 'max': 286.5625, 'min': 258.71875}, {'date': '2018-11-02', 'average': 278.04661682, 'standard deviation': '8.159245720657598%', 'max': 286.5625, 'min': 258.71875}, {'date': '2018-11-05', 'average': 277.79928834, 'standard deviation': '8.313813813445753%', 'max': 286.5625, 'min': 258.71875}, {'date': '2018-11-06', 'average': 277.54779907999995, 'standard deviation': '8.413738732209833%', 'max': 286.5625, 'min': 258.71875}, {'date': '2018-11-07', 'average': 277.2859204, 'standard deviation': '8.448232283942415%', 'max': 286.5625, 'min': 258.71875}, {'date': '2018-11-08', 'average': 277.13681394, 'standard deviation': '8.41195663937993%', 'max': 286.5625, 'min': 258.71875}, {'date': '2018-11-09', 'average': 276.94725156000004, 'standard deviation': '8.35017410833701%', 'max': 286.5625, 'min': 258.71875}, {'date': '2018-11-12', 'average': 276.72699338, 'standard deviation': '8.323297028035993%', 'max': 286.5625, 'min': 258.71875}, {'date': '2018-11-13', 'average': 276.40476254000004, 'standard deviation': '8.371589056494363%', 'max': 286.5625, 'min': 258.71875}, {'date': '2018-11-14', 'average': 276.08229062, 'standard deviation': '8.426213943975526%', 'max': 286.5625, 'min': 258.71875}, {'date': '2018-11-15', 'average': 275.73857114, 'standard deviation': '8.522832814820202%', 'max': 286.5625, 'min': 258.71875}, {'date': '2018-11-16', 'average': 275.4671362, 'standard deviation': '8.558322381779876%', 'max': 286.5625, 'min': 258.71875}, {'date': '2018-11-19', 'average': 275.22055722, 'standard deviation': '8.580848998964264%', 'max': 286.5625, 'min': 258.71875}, {'date': '2018-11-20', 'average': 274.87342160000003, 'standard deviation': '8.681872859643246%', 'max': 286.5625, 'min': 258.71875}, {'date': '2018-11-21', 'average': 274.41008114, 'standard deviation': '8.89718984149511%', 'max': 286.5625, 'min': 258.71875}, {'date': '2018-11-23', 'average': 273.96302244, 'standard deviation': '9.05427831614889%', 'max': 286.5625, 'min': 258.71875}, {'date': '2018-11-26', 'average': 273.4478723, 'standard deviation': '9.206950915429285%', 'max': 286.5625, 'min': 258.120697}, {'date': '2018-11-27', 'average': 273.01508909999995, 'standard deviation': '9.212780590108059%', 'max': 286.5625, 'min': 258.120697}, {'date': '2018-11-28', 'average': 272.63001952, 'standard deviation': '9.213846185126421%', 'max': 286.5625, 'min': 258.120697}, {'date': '2018-11-29', 'average': 272.33549072, 'standard deviation': '9.081504629270706%', 'max': 286.5625, 'min': 258.120697}, {'date': '2018-11-30', 'average': 272.02314454, 'standard deviation': '8.933403799747843%', 'max': 286.5625, 'min': 258.120697}, {'date': '2018-12-03', 'average': 271.6974762, 'standard deviation': '8.690950549331895%', 'max': 286.300659, 'min': 258.120697}, {'date': '2018-12-04', 'average': 271.44862122, 'standard deviation': '8.443872522494692%', 'max': 286.045776, 'min': 258.120697}, {'date': '2018-12-06', 'average': 271.0413153, 'standard deviation': '8.252521183983596%', 'max': 286.045776, 'min': 258.120697}, {'date': '2018-12-07', 'average': 270.63126464, 'standard deviation': '8.051456677892082%', 'max': 286.045776, 'min': 258.120697}, {'date': '2018-12-10', 'average': 270.11531798, 'standard deviation': '7.989711353305449%', 'max': 286.045776, 'min': 258.120697}, {'date': '2018-12-11', 'average': 269.59329222, 'standard deviation': '7.849904461134804%', 'max': 286.045776, 'min': 258.120697}, {'date': '2018-12-12', 'average': 269.07185364000003, 'standard deviation': '7.669346797398992%', 'max': 286.045776, 'min': 258.120697}, {'date': '2018-12-13', 'average': 268.55669008, 'standard deviation': '7.3711918264642655%', 'max': 286.03595, 'min': 258.120697}, {'date': '2018-12-14', 'average': 268.04309572, 'standard deviation': '7.033228714381304%', 'max': 286.03595, 'min': 258.120697}, {'date': '2018-12-17', 'average': 267.43027406, 'standard deviation': '6.768711358454789%', 'max': 283.800385, 'min': 255.394867}, {'date': '2018-12-18', 'average': 266.76195434, 'standard deviation': '6.769078865946122%', 'max': 282.211914, 'min': 250.384399}, {'date': '2018-12-19', 'average': 266.11991331999997, 'standard deviation': '6.795589001112217%', 'max': 282.211914, 'min': 250.109863}, {'date': '2018-12-20', 'average': 265.40296049999995, 'standard deviation': '6.949292431412941%', 'max': 281.80011, 'min': 246.364273}, {'date': '2018-12-21', 'average': 264.61403807999994, 'standard deviation': '7.274478553282272%', 'max': 275.534637, 'min': 242.353989}, {'date': '2018-12-24', 'average': 263.90425416, 'standard deviation': '8.11624572258673%', 'max': 275.534637, 'min': 237.388245}, {'date': '2018-12-26', 'average': 263.18923126, 'standard deviation': '9.310657142604308%', 'max': 275.534637, 'min': 231.115768}, {'date': '2018-12-27', 'average': 262.63362365999996, 'standard deviation': '9.675195187157081%', 'max': 275.534637, 'min': 231.115768}, {'date': '2018-12-28', 'average': 262.14569245999996, 'standard deviation': '9.950392674295026%', 'max': 275.534637, 'min': 231.115768}]\n"
     ]
    }
   ],
   "source": [
    "import csv\n",
    "\n",
    "file_path = 'Desktop/Temple/Fall 2019/II/Data Science/'\n",
    "file_name = file_path + 'SPY.csv'\n",
    "         \n",
    "with open(file_name, 'r') as f_in:\n",
    "    reader = csv.reader(f_in, delimiter = ',')\n",
    "    header = next(reader)\n",
    "    data = list(reader)\n",
    "f_in.close()\n",
    "    \n",
    "N = len(data)\n",
    "date_arr = np.empty(N, dtype = object)\n",
    "price_arr = np.empty(N)\n",
    "i = 0\n",
    "\n",
    "for my_data in data:\n",
    "    date_arr[i] = my_data[0]\n",
    "    price_arr[i] = my_data[5]\n",
    "    i += 1\n",
    "\n",
    "\n",
    "# test case\n",
    "mv_avg = moving_avg(date_arr, price_arr)\n",
    "#print(\"\\n Test case 1 when all price data are available:\")\n",
    "#print(mv_avg[-1])\n",
    "#print(mv_avg[100])\n",
    "#print(mv_avg[0])\n",
    "\n",
    "# test case for the last element has nan value\n",
    "#print(\"\\n Test case 2 when the last element has nan value:\")\n",
    "#price_arr[-1] = np.nan\n",
    "#mv_avg = moving_avg(date_arr, price_arr)\n",
    "#print(mv_avg[-1])\n",
    "\n",
    "# test case for the first element has nan value\n",
    "#print(\"\\n Test case 3 when the first element has nan value:\")\n",
    "#price_arr[0] = np.nan\n",
    "#mv_avg = moving_avg(date_arr, price_arr)\n",
    "#print(mv_avg[0])\n",
    "\n",
    "# test case for 100th element has nan value\n",
    "#print(\"\\n Test case 4 when 100th element has nan value:\")\n",
    "#price_arr[0] = np.nan\n",
    "#mv_avg = moving_avg(date_arr, price_arr)\n",
    "#print(mv_avg[100])\n",
    "\n",
    "print(mv_avg[0:250])"
   ]
  },
  {
   "cell_type": "markdown",
   "metadata": {},
   "source": [
    "### Problem 3: Monte Carlo Simulation (40 points)\n",
    "\n",
    "Stock prices follow a log-normal process: $dS = S(\\mu dt + \\sigma dz)$, where $\\mu$ is a constant growth rate, $\\sigma$ is a constant volatility rate, $dt$ is time interveral (1 month = 1/12), and $dz$ is a normal distributed random variable with variance equal to $dt$.\n",
    "\n",
    "Start from a given $S_0$ (say, 100), we will have $S_t = S_{t-1}*(1+\\mu \\Delta t + \\sigma \\sqrt{\\Delta t} Z)$ for $t=1,2,...,N$, where $Z$ is a standard normal distributed variable. \n"
   ]
  },
  {
   "cell_type": "markdown",
   "metadata": {},
   "source": [
    "(a) Write a function below that returns a numPy array with $N+1$ stock prices following the algorithm described above given input: $N$, $\\mu$, $\\sigma$, $\\Delta t$ with default value 1 month ($ = 1/12$), and starting price $S_0$ with default value 100."
   ]
  },
  {
   "cell_type": "code",
   "execution_count": 90,
   "metadata": {},
   "outputs": [],
   "source": [
    "import numpy as np\n",
    "\n",
    "def prices(n, m, s, seed = None, dt=1/12, p0=100):\n",
    "    np.random.seed(seed)\n",
    "    a = m*dt\n",
    "    b = s*np.sqrt(dt)\n",
    "    z = np.random.randn(n)\n",
    "    r = a+b*z\n",
    "    prices = np.empty(n+1)\n",
    "    p0 = prices[0]\n",
    "    for i in range(1,n+1):\n",
    "        prices[i] = prices[i-1]*(1+r[i-1])\n",
    "    return prices"
   ]
  },
  {
   "cell_type": "markdown",
   "metadata": {},
   "source": [
    "(b) Generate a sequence of 60 monthly stock prices by calling function created above with $\\mu = 6\\%, \\sigma = 10\\%$, $S_0 = 100$. Calculate 60 monthly returns based on this set of prices. Compute the annualized return and annualized standard deviation. "
   ]
  },
  {
   "cell_type": "code",
   "execution_count": 91,
   "metadata": {},
   "outputs": [
    {
     "name": "stdout",
     "output_type": "stream",
     "text": [
      "[ 0.0559238   0.01655154  0.03325373  0.06968901  0.05891176 -0.02321158\n",
      "  0.03242669  0.00063069  0.00202033  0.01685296  0.00915818  0.04698126\n",
      "  0.02696927  0.00851246  0.01781323  0.01463235  0.04813035 -0.00092241\n",
      "  0.01403749 -0.01965562 -0.06869847  0.02386834  0.02995412 -0.01642446\n",
      "  0.07052217 -0.03698392  0.00632093 -0.00040353  0.04924752  0.04741673\n",
      "  0.00947295  0.01591661 -0.02062817 -0.05218067 -0.00504336  0.00951341\n",
      "  0.04051543  0.03970972 -0.00618116 -0.00372673 -0.02526912 -0.03599239\n",
      " -0.04425578  0.06131403 -0.00971239 -0.00764612 -0.03116509  0.02744421\n",
      " -0.04158922 -0.00114128 -0.02084989  0.01616891 -0.00974567 -0.02908192\n",
      "  0.00418645  0.01736488  0.00692019  0.01373161 -0.0133113  -0.00547144]\n",
      "\n",
      "The annualized return is 8.655833023589214%\n",
      "\n",
      "The annualized standard deviation is 10.598408313898625%\n"
     ]
    }
   ],
   "source": [
    "my_prices = prices(60, 0.06, 0.1, 0)\n",
    "p0 = my_prices[0:60]\n",
    "p1 = my_prices[1:61]\n",
    "r = (p1-p0)/p0\n",
    "print(r)\n",
    "\n",
    "my_return = np.mean(r)\n",
    "annual_return = my_return * 12 * 100\n",
    "std = np.std(r)\n",
    "annual_std = std * np.sqrt(12) * 100\n",
    "print(\"\\nThe annualized return is \" + str(annual_return) + \"%\")\n",
    "print(\"\\nThe annualized standard deviation is \" + str(annual_std) + \"%\")"
   ]
  },
  {
   "cell_type": "markdown",
   "metadata": {},
   "source": [
    "(c) Similar to (b), use the function crated in (a) to generate 100 sample of return data. Calculate the min, max, mean, and standard deviation at each month end (60 months) below. What's your observation of your average monthly return for each month? How about increase the sample size to 1,000? 10,000?"
   ]
  },
  {
   "cell_type": "code",
   "execution_count": 92,
   "metadata": {},
   "outputs": [
    {
     "name": "stdout",
     "output_type": "stream",
     "text": [
      "The mean from the distribution should be: 0.005\n",
      "\n",
      "Our numerical results are: \n",
      "\n",
      "[ 0.00301656  0.00886208  0.00516709  0.00459201  0.00555077  0.00658045\n",
      "  0.00398335  0.00063987  0.00571681  0.00883697  0.00362824  0.00945068\n",
      "  0.00070489  0.0024883   0.0019862   0.00606097  0.00414629  0.00379951\n",
      "  0.00688367  0.00801941 -0.00038012  0.00862977  0.00111958  0.00908641\n",
      "  0.00235002  0.00900714  0.007741    0.01144477  0.0008832   0.00352785\n",
      " -0.00385094  0.00298382  0.00213305  0.00551985  0.00382759  0.00796896\n",
      "  0.00680586  0.00739754  0.00048789  0.00191839  0.00157113  0.00154031\n",
      "  0.00367184  0.00672448  0.00537106 -0.00105191  0.00896119  0.004874\n",
      "  0.00187175  0.00748055  0.00086737  0.00913678  0.00951614  0.00897602\n",
      "  0.0048084   0.00384675  0.00643591  0.00644552  0.00615972  0.0081477 ]\n",
      "\n",
      "The volatility from the distribution should be: 0.02886751345948129\n",
      "\n",
      "Our numerical results are: \n",
      "\n",
      "[0.02956458 0.02754527 0.02482196 0.02765752 0.02776404 0.02894373\n",
      " 0.02623116 0.02903907 0.03202638 0.02512917 0.0322279  0.03235794\n",
      " 0.02969527 0.02733101 0.02774892 0.0240849  0.03078975 0.02921646\n",
      " 0.03108454 0.03177793 0.02597434 0.02897825 0.02735132 0.03350725\n",
      " 0.02970191 0.02733537 0.02848358 0.02695515 0.02866305 0.03158958\n",
      " 0.02799062 0.03084475 0.03190381 0.02519099 0.02896809 0.02472309\n",
      " 0.03015801 0.02856426 0.02632431 0.02540543 0.03227058 0.03039569\n",
      " 0.03071582 0.0262666  0.0278875  0.03170802 0.026843   0.02720427\n",
      " 0.02632557 0.02751981 0.02872899 0.02996608 0.03162571 0.03443394\n",
      " 0.03045857 0.02453249 0.03125563 0.03118164 0.02838677 0.02798386]\n",
      "\n",
      "The max return at each 60-month data set is [0.06716612 0.07336974 0.06519606 0.06973673 0.07012854 0.06308176\n",
      " 0.06682171 0.05960334 0.08601854 0.07189279 0.08018617 0.09038237\n",
      " 0.05624141 0.07938834 0.07376884 0.04944844 0.07859253 0.08291845\n",
      " 0.08556715 0.07534415 0.05654251 0.06658369 0.05842505 0.08816605\n",
      " 0.08047721 0.07659259 0.07102345 0.06919498 0.0740588  0.09422571\n",
      " 0.07508238 0.07949908 0.06758574 0.06684689 0.08799584 0.07780992\n",
      " 0.07775938 0.09006351 0.09647518 0.05780678 0.07771413 0.08015007\n",
      " 0.0894406  0.06034039 0.08130514 0.0739114  0.06996664 0.09154646\n",
      " 0.05859084 0.08050527 0.06962952 0.07149324 0.08281859 0.08557289\n",
      " 0.08790688 0.05056516 0.10013477 0.09725649 0.06016938 0.08098272]\n",
      "\n",
      "The min return at each 60-month data set is [-0.07599023 -0.08306164 -0.06744204 -0.0578301  -0.06370934 -0.07349724\n",
      " -0.05881317 -0.096904   -0.07720326 -0.07208952 -0.10051132 -0.06501431\n",
      " -0.07128943 -0.06074052 -0.08824184 -0.06645301 -0.0705259  -0.06083997\n",
      " -0.06722075 -0.06762706 -0.06902362 -0.07730431 -0.08844721 -0.07274717\n",
      " -0.07531172 -0.05834555 -0.04882611 -0.05201023 -0.07050814 -0.09158921\n",
      " -0.08633005 -0.07872199 -0.1149214  -0.06437686 -0.07881863 -0.05376313\n",
      " -0.07704218 -0.06695965 -0.05788251 -0.05700933 -0.08327194 -0.06773283\n",
      " -0.04775122 -0.05659924 -0.05599916 -0.0770745  -0.05269523 -0.06459997\n",
      " -0.05874094 -0.06185471 -0.07283842 -0.06261666 -0.05735388 -0.09169406\n",
      " -0.07143202 -0.05512921 -0.0669333  -0.06483536 -0.07360138 -0.07240315]\n"
     ]
    }
   ],
   "source": [
    "n = 60\n",
    "k = 100\n",
    "m = 0.06\n",
    "s = 0.1\n",
    "\n",
    "my_prices = np.empty((n+1,k))\n",
    "\n",
    "for j in range(k):\n",
    "    my_prices[:,j] = prices(n, m, s)\n",
    "    \n",
    "p0 = my_prices[0:n,:]\n",
    "p1 = my_prices[1:n+1,:]\n",
    "r2 = (p1-p0)/p0\n",
    "       \n",
    "r_min = r2.min(axis=1)\n",
    "r_max = r2.max(axis=1)\n",
    "r_mean = r2.mean(axis=1)\n",
    "r_std = r2.std(axis=1)\n",
    "\n",
    "print(\"The mean from the distribution should be: \" + str(m/12) + \"\\n\") # theoretic value of monthly volatility\n",
    "print(\"Our numerical results are: \\n\")\n",
    "print(r_mean)\n",
    "\n",
    "print(\"\\nThe volatility from the distribution should be: \" + str(s/np.sqrt(12)) + \"\\n\") # theoretic value of monthly volatility\n",
    "print(\"Our numerical results are: \\n\")\n",
    "print(r_std)\n",
    "\n",
    "print(\"\\nThe max return at each 60-month data set is \" + str(r_max))\n",
    "print(\"\\nThe min return at each 60-month data set is \" + str(r_min))"
   ]
  },
  {
   "cell_type": "code",
   "execution_count": 93,
   "metadata": {},
   "outputs": [
    {
     "name": "stdout",
     "output_type": "stream",
     "text": [
      "The mean from the distribution should be: 0.005\n",
      "\n",
      "Our numerical results are: \n",
      "\n",
      "[0.00437896 0.00577673 0.00599847 0.00589733 0.0043385  0.00562222\n",
      " 0.00577865 0.00472597 0.00430247 0.00545949 0.00336376 0.00522427\n",
      " 0.00674281 0.00616293 0.00537896 0.00507798 0.00442323 0.00593764\n",
      " 0.00484469 0.00504494 0.00490502 0.00513232 0.00479744 0.00439346\n",
      " 0.00508373 0.00415744 0.00565435 0.00391363 0.00497197 0.00526557\n",
      " 0.00452096 0.0043285  0.0048236  0.00623946 0.00648213 0.00592695\n",
      " 0.00549442 0.00535866 0.00450438 0.00409218 0.00483616 0.00519075\n",
      " 0.00421555 0.00513759 0.00421649 0.00513559 0.00395827 0.00387731\n",
      " 0.00425804 0.00426147 0.00549828 0.00640082 0.00513155 0.00358622\n",
      " 0.00459893 0.00438543 0.00524758 0.00406562 0.00649098 0.00541297]\n",
      "\n",
      "The volatility from the distribution should be: 0.02886751345948129\n",
      "\n",
      "Our numerical results are: \n",
      "\n",
      "[0.02923603 0.02949609 0.0281036  0.02910287 0.02901281 0.02855394\n",
      " 0.03013525 0.02876835 0.02848974 0.02845118 0.02885507 0.0291558\n",
      " 0.02943704 0.02996071 0.02772168 0.0288929  0.02894364 0.02922455\n",
      " 0.02968528 0.02866384 0.02934478 0.02940057 0.02883116 0.02915056\n",
      " 0.02965513 0.02773073 0.02822963 0.02827563 0.02774835 0.0289262\n",
      " 0.02905952 0.02865854 0.02865119 0.02807308 0.02860637 0.02964096\n",
      " 0.0295862  0.02875031 0.02907322 0.02920291 0.02876142 0.03009011\n",
      " 0.02783351 0.02881468 0.02884638 0.0286134  0.02752542 0.02950832\n",
      " 0.02957428 0.02923912 0.02891278 0.02849163 0.02899688 0.02867291\n",
      " 0.02949112 0.02973343 0.02941153 0.02688921 0.03018832 0.0275152 ]\n",
      "\n",
      "The max return at each 60-month data set is [0.10913261 0.10450278 0.10293201 0.08252318 0.09529824 0.09475342\n",
      " 0.10019184 0.09107767 0.09222312 0.09549613 0.10302619 0.09095168\n",
      " 0.10172903 0.15790406 0.09619913 0.08911121 0.08684157 0.10865173\n",
      " 0.12520109 0.10497418 0.08848517 0.09937063 0.1001236  0.10619293\n",
      " 0.10164216 0.09676129 0.09298779 0.1181407  0.07946579 0.09540311\n",
      " 0.09971899 0.09493841 0.0935555  0.09574709 0.09519783 0.0995676\n",
      " 0.11096612 0.09421415 0.09501266 0.09719164 0.08956258 0.11407997\n",
      " 0.08303709 0.08980513 0.10046743 0.09869542 0.09169235 0.09504766\n",
      " 0.11557974 0.08032097 0.11668428 0.09730856 0.11035538 0.09301985\n",
      " 0.10879296 0.10511195 0.13514344 0.07657856 0.11065432 0.08268909]\n",
      "\n",
      "The min return at each 60-month data set is [-0.08025273 -0.09352703 -0.09724307 -0.07878051 -0.08522112 -0.08278729\n",
      " -0.09046088 -0.07692457 -0.09442005 -0.09095325 -0.08813277 -0.09819597\n",
      " -0.09200155 -0.09491365 -0.08276754 -0.10290208 -0.08181147 -0.09175456\n",
      " -0.09974829 -0.08896511 -0.07694325 -0.08569218 -0.08313364 -0.08456976\n",
      " -0.11197358 -0.08121285 -0.08837663 -0.09099394 -0.07578287 -0.11380441\n",
      " -0.08851622 -0.07866842 -0.07886391 -0.07594717 -0.08692492 -0.08372708\n",
      " -0.09071616 -0.07915964 -0.09334128 -0.09447688 -0.10885487 -0.089559\n",
      " -0.08389564 -0.09166891 -0.08170421 -0.08488524 -0.07734727 -0.08727996\n",
      " -0.08379733 -0.09567548 -0.0909974  -0.08787236 -0.09809045 -0.07987035\n",
      " -0.08698933 -0.08295345 -0.07963451 -0.07843058 -0.088973   -0.08940694]\n"
     ]
    }
   ],
   "source": [
    "n = 60\n",
    "k = 1000\n",
    "m = 0.06\n",
    "s = 0.1\n",
    "\n",
    "my_prices = np.empty((n+1,k))\n",
    "\n",
    "for j in range(k):\n",
    "    my_prices[:,j] = prices(n, m, s)\n",
    "    \n",
    "p0 = my_prices[0:n,:]\n",
    "p1 = my_prices[1:n+1,:]\n",
    "r2 = (p1-p0)/p0\n",
    "       \n",
    "r_min = r2.min(axis=1)\n",
    "r_max = r2.max(axis=1)\n",
    "r_mean = r2.mean(axis=1)\n",
    "r_std = r2.std(axis=1)\n",
    "\n",
    "print(\"The mean from the distribution should be: \" + str(m/12) + \"\\n\") # theoretic value of monthly volatility\n",
    "print(\"Our numerical results are: \\n\")\n",
    "print(r_mean)\n",
    "\n",
    "print(\"\\nThe volatility from the distribution should be: \" + str(s/np.sqrt(12)) + \"\\n\") # theoretic value of monthly volatility\n",
    "print(\"Our numerical results are: \\n\")\n",
    "print(r_std)\n",
    "\n",
    "print(\"\\nThe max return at each 60-month data set is \" + str(r_max))\n",
    "print(\"\\nThe min return at each 60-month data set is \" + str(r_min))"
   ]
  },
  {
   "cell_type": "code",
   "execution_count": 95,
   "metadata": {},
   "outputs": [
    {
     "name": "stdout",
     "output_type": "stream",
     "text": [
      "The mean from the distribution should be: 0.005\n",
      "\n",
      "Our numerical results are: \n",
      "\n",
      "[0.00506425 0.00514674 0.00496463 0.00484434 0.00535431 0.00514392\n",
      " 0.00482547 0.00458958 0.00540642 0.00553125 0.00513193 0.0050601\n",
      " 0.00431331 0.00500012 0.00476062 0.00493979 0.00525589 0.00515155\n",
      " 0.00539465 0.00473956 0.00473687 0.00557631 0.00519376 0.00494394\n",
      " 0.00463859 0.00452593 0.00516245 0.00476676 0.00513872 0.00465232\n",
      " 0.00485009 0.00496559 0.00471123 0.00485122 0.00562954 0.00471528\n",
      " 0.00536932 0.00443334 0.00533915 0.00502062 0.00495256 0.00467448\n",
      " 0.00477478 0.00513062 0.00503846 0.00467415 0.00524789 0.0045926\n",
      " 0.00494387 0.00511388 0.00526409 0.00543043 0.00517504 0.00458728\n",
      " 0.0051228  0.00539138 0.00468374 0.00483926 0.00495048 0.00463401]\n",
      "\n",
      "The volatility from the distribution should be: 0.02886751345948129\n",
      "\n",
      "Our numerical results are: \n",
      "\n",
      "[0.02903867 0.02896364 0.02877057 0.02872182 0.02902851 0.02894002\n",
      " 0.02918133 0.02865589 0.0283394  0.02857525 0.02898066 0.02895542\n",
      " 0.02871254 0.02910865 0.0286294  0.02917778 0.02865439 0.02908283\n",
      " 0.02842238 0.02937347 0.02913381 0.02869137 0.02881215 0.02857038\n",
      " 0.02880087 0.02899168 0.0286748  0.02903077 0.02913746 0.02903041\n",
      " 0.02845742 0.02909433 0.02865474 0.02880467 0.02942021 0.02933489\n",
      " 0.02884526 0.02873314 0.02883436 0.0292167  0.0291871  0.02900594\n",
      " 0.02886671 0.02874002 0.02856359 0.02876663 0.02893307 0.02869835\n",
      " 0.02878416 0.0293611  0.02897294 0.02889936 0.02877798 0.02845077\n",
      " 0.02920416 0.02883262 0.02915795 0.02916761 0.0288421  0.02900133]\n",
      "\n",
      "The max return at each 60-month data set is [0.10592692 0.12070287 0.10565432 0.11143217 0.11404386 0.10963956\n",
      " 0.12350907 0.10625068 0.11683723 0.1232758  0.1081527  0.10829101\n",
      " 0.1181413  0.11333605 0.11554572 0.1233242  0.12800454 0.1157736\n",
      " 0.10882916 0.1155801  0.11185524 0.11112678 0.12386839 0.11902026\n",
      " 0.11715278 0.11912838 0.10522222 0.12042935 0.12791191 0.10704401\n",
      " 0.13009094 0.1190547  0.12012059 0.12425864 0.12224273 0.11805855\n",
      " 0.11214486 0.11783238 0.13195034 0.1253895  0.12175764 0.12842004\n",
      " 0.10524976 0.11427118 0.11155859 0.1319393  0.1090458  0.10415472\n",
      " 0.12349336 0.10800116 0.1218283  0.11758089 0.11261825 0.12636838\n",
      " 0.11452628 0.11242667 0.11353771 0.13763369 0.12864604 0.09975354]\n",
      "\n",
      "The min return at each 60-month data set is [-0.1118282  -0.10454467 -0.10370356 -0.12606505 -0.10124443 -0.09904981\n",
      " -0.10419955 -0.10928778 -0.10628278 -0.10497402 -0.09614483 -0.14141118\n",
      " -0.10962185 -0.09910192 -0.09358989 -0.10609154 -0.0997729  -0.09778216\n",
      " -0.10038469 -0.10786061 -0.09773188 -0.10101844 -0.09360318 -0.10502222\n",
      " -0.12868029 -0.11092497 -0.11206628 -0.09987743 -0.10879433 -0.12040456\n",
      " -0.10705971 -0.09810154 -0.09759811 -0.10688862 -0.09755378 -0.11754312\n",
      " -0.09594549 -0.11694082 -0.11612314 -0.10932087 -0.10543266 -0.12832567\n",
      " -0.10740708 -0.09340126 -0.1014247  -0.12100861 -0.11449428 -0.0986368\n",
      " -0.10002378 -0.12197228 -0.1055411  -0.09463272 -0.10840531 -0.09999666\n",
      " -0.10085984 -0.10573011 -0.12408462 -0.10571778 -0.12135004 -0.11511028]\n"
     ]
    }
   ],
   "source": [
    "n = 60\n",
    "k = 10000\n",
    "m = 0.06\n",
    "s = 0.1\n",
    "\n",
    "my_prices = np.empty((n+1,k))\n",
    "\n",
    "for j in range(k):\n",
    "    my_prices[:,j] = prices(n, m, s)\n",
    "    \n",
    "p0 = my_prices[0:n,:]\n",
    "p1 = my_prices[1:n+1,:]\n",
    "r2 = (p1-p0)/p0\n",
    "       \n",
    "r_min = r2.min(axis=1)\n",
    "r_max = r2.max(axis=1)\n",
    "r_mean = r2.mean(axis=1)\n",
    "r_std = r2.std(axis=1)\n",
    "\n",
    "print(\"The mean from the distribution should be: \" + str(m/12) + \"\\n\") # theoretic value of monthly volatility\n",
    "print(\"Our numerical results are: \\n\")\n",
    "print(r_mean)\n",
    "\n",
    "print(\"\\nThe volatility from the distribution should be: \" + str(s/np.sqrt(12)) + \"\\n\") # theoretic value of monthly volatility\n",
    "print(\"Our numerical results are: \\n\")\n",
    "print(r_std)\n",
    "\n",
    "print(\"\\nThe max return at each 60-month data set is \" + str(r_max))\n",
    "print(\"\\nThe min return at each 60-month data set is \" + str(r_min))"
   ]
  }
 ],
 "metadata": {
  "kernelspec": {
   "display_name": "Python 3",
   "language": "python",
   "name": "python3"
  },
  "language_info": {
   "codemirror_mode": {
    "name": "ipython",
    "version": 3
   },
   "file_extension": ".py",
   "mimetype": "text/x-python",
   "name": "python",
   "nbconvert_exporter": "python",
   "pygments_lexer": "ipython3",
   "version": "3.7.0"
  }
 },
 "nbformat": 4,
 "nbformat_minor": 2
}
